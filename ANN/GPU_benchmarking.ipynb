{
 "cells": [
  {
   "cell_type": "code",
   "execution_count": 1,
   "id": "4f2544ff",
   "metadata": {},
   "outputs": [],
   "source": [
    "import tensorflow as tf\n",
    "from tensorflow import keras\n",
    "import matplotlib.pyplot as plt\n",
    "import numpy as np"
   ]
  },
  {
   "cell_type": "code",
   "execution_count": 2,
   "id": "0c1a4461",
   "metadata": {},
   "outputs": [],
   "source": [
    "(X_train, y_train), (X_test, y_test) = tf.keras.datasets.cifar10.load_data()"
   ]
  },
  {
   "cell_type": "code",
   "execution_count": 3,
   "id": "fe015a55",
   "metadata": {},
   "outputs": [
    {
     "data": {
      "text/plain": [
       "(50000, 32, 32, 3)"
      ]
     },
     "execution_count": 3,
     "metadata": {},
     "output_type": "execute_result"
    }
   ],
   "source": [
    "X_train.shape"
   ]
  },
  {
   "cell_type": "code",
   "execution_count": 4,
   "id": "4e06a6f0",
   "metadata": {},
   "outputs": [
    {
     "data": {
      "text/plain": [
       "(50000, 1)"
      ]
     },
     "execution_count": 4,
     "metadata": {},
     "output_type": "execute_result"
    }
   ],
   "source": [
    "y_train.shape"
   ]
  },
  {
   "cell_type": "code",
   "execution_count": 5,
   "id": "5ebe8218",
   "metadata": {},
   "outputs": [
    {
     "data": {
      "text/plain": [
       "array([[6],\n",
       "       [9],\n",
       "       [9],\n",
       "       [4],\n",
       "       [1]], dtype=uint8)"
      ]
     },
     "execution_count": 5,
     "metadata": {},
     "output_type": "execute_result"
    }
   ],
   "source": [
    "y_train[0:5]"
   ]
  },
  {
   "cell_type": "code",
   "execution_count": 6,
   "id": "1f765425",
   "metadata": {},
   "outputs": [],
   "source": [
    "def plot_sample(index):\n",
    "    plt.figure(figsize=(10,1))\n",
    "    plt.imshow(X_train[index])"
   ]
  },
  {
   "cell_type": "code",
   "execution_count": 7,
   "id": "dba6f951",
   "metadata": {},
   "outputs": [
    {
     "data": {
      "image/png": "[encoded data removed]",
      "text/plain": [
       "<Figure size 720x72 with 1 Axes>"
      ]
     },
     "metadata": {
      "needs_background": "light"
     },
     "output_type": "display_data"
    }
   ],
   "source": [
    "plot_sample(1)"
   ]
  },
  {
   "cell_type": "code",
   "execution_count": 8,
   "id": "c39ba171",
   "metadata": {},
   "outputs": [],
   "source": [
    "classes = ['airplane', 'automobile', 'bird','cat', 'deer', 'dog', 'frog', 'horse', 'ship', 'truck']"
   ]
  },
  {
   "cell_type": "code",
   "execution_count": 9,
   "id": "581a9da1",
   "metadata": {},
   "outputs": [
    {
     "data": {
      "text/plain": [
       "4"
      ]
     },
     "execution_count": 9,
     "metadata": {},
     "output_type": "execute_result"
    }
   ],
   "source": [
    "y_train[3][0]"
   ]
  },
  {
   "cell_type": "code",
   "execution_count": 10,
   "id": "458f15fd",
   "metadata": {},
   "outputs": [
    {
     "data": {
      "text/plain": [
       "'deer'"
      ]
     },
     "execution_count": 10,
     "metadata": {},
     "output_type": "execute_result"
    }
   ],
   "source": [
    "classes[y_train[3][0]]"
   ]
  },
  {
   "cell_type": "code",
   "execution_count": 11,
   "id": "a8ce7a42",
   "metadata": {},
   "outputs": [
    {
     "data": {
      "text/plain": [
       "array([[[ 59,  62,  63],\n",
       "        [ 43,  46,  45],\n",
       "        [ 50,  48,  43],\n",
       "        ...,\n",
       "        [158, 132, 108],\n",
       "        [152, 125, 102],\n",
       "        [148, 124, 103]],\n",
       "\n",
       "       [[ 16,  20,  20],\n",
       "        [  0,   0,   0],\n",
       "        [ 18,   8,   0],\n",
       "        ...,\n",
       "        [123,  88,  55],\n",
       "        [119,  83,  50],\n",
       "        [122,  87,  57]],\n",
       "\n",
       "       [[ 25,  24,  21],\n",
       "        [ 16,   7,   0],\n",
       "        [ 49,  27,   8],\n",
       "        ...,\n",
       "        [118,  84,  50],\n",
       "        [120,  84,  50],\n",
       "        [109,  73,  42]],\n",
       "\n",
       "       ...,\n",
       "\n",
       "       [[208, 170,  96],\n",
       "        [201, 153,  34],\n",
       "        [198, 161,  26],\n",
       "        ...,\n",
       "        [160, 133,  70],\n",
       "        [ 56,  31,   7],\n",
       "        [ 53,  34,  20]],\n",
       "\n",
       "       [[180, 139,  96],\n",
       "        [173, 123,  42],\n",
       "        [186, 144,  30],\n",
       "        ...,\n",
       "        [184, 148,  94],\n",
       "        [ 97,  62,  34],\n",
       "        [ 83,  53,  34]],\n",
       "\n",
       "       [[177, 144, 116],\n",
       "        [168, 129,  94],\n",
       "        [179, 142,  87],\n",
       "        ...,\n",
       "        [216, 184, 140],\n",
       "        [151, 118,  84],\n",
       "        [123,  92,  72]]], dtype=uint8)"
      ]
     },
     "execution_count": 11,
     "metadata": {},
     "output_type": "execute_result"
    }
   ],
   "source": [
    "X_train[0]"
   ]
  },
  {
   "cell_type": "code",
   "execution_count": 12,
   "id": "efa6bb2c",
   "metadata": {},
   "outputs": [
    {
     "data": {
      "text/plain": [
       "(10000, 32, 32, 3)"
      ]
     },
     "execution_count": 12,
     "metadata": {},
     "output_type": "execute_result"
    }
   ],
   "source": [
    "X_train_scaled = X_train/255\n",
    "X_test_scaled = X_test/255\n",
    "X_test_scaled.shape"
   ]
  },
  {
   "cell_type": "code",
   "execution_count": 13,
   "id": "5b561354",
   "metadata": {},
   "outputs": [
    {
     "data": {
      "text/plain": [
       "(10000, 32, 32, 3)"
      ]
     },
     "execution_count": 13,
     "metadata": {},
     "output_type": "execute_result"
    }
   ],
   "source": [
    "X_test_scaled.shape"
   ]
  },
  {
   "cell_type": "code",
   "execution_count": 14,
   "id": "14a67736",
   "metadata": {},
   "outputs": [
    {
     "data": {
      "text/plain": [
       "array([[6],\n",
       "       [9],\n",
       "       [9],\n",
       "       [4],\n",
       "       [1]], dtype=uint8)"
      ]
     },
     "execution_count": 14,
     "metadata": {},
     "output_type": "execute_result"
    }
   ],
   "source": [
    "y_train[:5]"
   ]
  },
  {
   "cell_type": "code",
   "execution_count": 15,
   "id": "d8f86459",
   "metadata": {},
   "outputs": [
    {
     "data": {
      "text/plain": [
       "array([[0., 0., 0., 0., 0., 0., 1., 0., 0., 0.],\n",
       "       [0., 0., 0., 0., 0., 0., 0., 0., 0., 1.],\n",
       "       [0., 0., 0., 0., 0., 0., 0., 0., 0., 1.],\n",
       "       [0., 0., 0., 0., 1., 0., 0., 0., 0., 0.],\n",
       "       [0., 1., 0., 0., 0., 0., 0., 0., 0., 0.]], dtype=float32)"
      ]
     },
     "execution_count": 15,
     "metadata": {},
     "output_type": "execute_result"
    }
   ],
   "source": [
    "y_train_categorical = keras.utils.to_categorical(\n",
    "    y_train, num_classes=10, dtype='float32'\n",
    ")\n",
    "y_train_categorical[:5]"
   ]
  },
  {
   "cell_type": "code",
   "execution_count": 16,
   "id": "d44090e3",
   "metadata": {},
   "outputs": [],
   "source": [
    "y_test_categorical = keras.utils.to_categorical(\n",
    "    y_test, num_classes=10, dtype='float32'\n",
    ")"
   ]
  },
  {
   "cell_type": "code",
   "execution_count": 17,
   "id": "83fa4af6",
   "metadata": {},
   "outputs": [
    {
     "data": {
      "text/plain": [
       "50000"
      ]
     },
     "execution_count": 17,
     "metadata": {},
     "output_type": "execute_result"
    }
   ],
   "source": [
    "len(X_train)"
   ]
  },
  {
   "cell_type": "code",
   "execution_count": 18,
   "id": "0b0620ea",
   "metadata": {},
   "outputs": [
    {
     "name": "stdout",
     "output_type": "stream",
     "text": [
      "Epoch 1/50\n",
      "1563/1563 [==============================] - 10s 5ms/step - loss: 1.8071 - accuracy: 0.3576\n",
      "Epoch 2/50\n",
      "1563/1563 [==============================] - 8s 5ms/step - loss: 1.6176 - accuracy: 0.4316\n",
      "Epoch 3/50\n",
      "1563/1563 [==============================] - 8s 5ms/step - loss: 1.5357 - accuracy: 0.4610\n",
      "Epoch 4/50\n",
      "1563/1563 [==============================] - 8s 5ms/step - loss: 1.4765 - accuracy: 0.4801\n",
      "Epoch 5/50\n",
      "1563/1563 [==============================] - 8s 5ms/step - loss: 1.4245 - accuracy: 0.4999\n",
      "Epoch 6/50\n",
      "1563/1563 [==============================] - 8s 5ms/step - loss: 1.3825 - accuracy: 0.5150\n",
      "Epoch 7/50\n",
      "1563/1563 [==============================] - 8s 5ms/step - loss: 1.3432 - accuracy: 0.5280\n",
      "Epoch 8/50\n",
      "1563/1563 [==============================] - 8s 5ms/step - loss: 1.3063 - accuracy: 0.5427\n",
      "Epoch 9/50\n",
      "1563/1563 [==============================] - 8s 5ms/step - loss: 1.2737 - accuracy: 0.5528\n",
      "Epoch 10/50\n",
      "1563/1563 [==============================] - 8s 5ms/step - loss: 1.2444 - accuracy: 0.5645\n",
      "Epoch 11/50\n",
      "1563/1563 [==============================] - 8s 5ms/step - loss: 1.2109 - accuracy: 0.5753\n",
      "Epoch 12/50\n",
      "1563/1563 [==============================] - 8s 5ms/step - loss: 1.1829 - accuracy: 0.5861\n",
      "Epoch 13/50\n",
      "1563/1563 [==============================] - 8s 5ms/step - loss: 1.1543 - accuracy: 0.5955\n",
      "Epoch 14/50\n",
      "1563/1563 [==============================] - 8s 5ms/step - loss: 1.1257 - accuracy: 0.6091\n",
      "Epoch 15/50\n",
      "1563/1563 [==============================] - 8s 5ms/step - loss: 1.0962 - accuracy: 0.6185\n",
      "Epoch 16/50\n",
      "1563/1563 [==============================] - 8s 5ms/step - loss: 1.0704 - accuracy: 0.6289\n",
      "Epoch 17/50\n",
      "1563/1563 [==============================] - 8s 5ms/step - loss: 1.0419 - accuracy: 0.6383\n",
      "Epoch 18/50\n",
      "1563/1563 [==============================] - 8s 5ms/step - loss: 1.0161 - accuracy: 0.6488\n",
      "Epoch 19/50\n",
      "1563/1563 [==============================] - 8s 5ms/step - loss: 0.9894 - accuracy: 0.6582\n",
      "Epoch 20/50\n",
      "1563/1563 [==============================] - 8s 5ms/step - loss: 0.9597 - accuracy: 0.6688\n",
      "Epoch 21/50\n",
      "1563/1563 [==============================] - 8s 5ms/step - loss: 0.9369 - accuracy: 0.6770\n",
      "Epoch 22/50\n",
      "1563/1563 [==============================] - 8s 5ms/step - loss: 0.9082 - accuracy: 0.6881\n",
      "Epoch 23/50\n",
      "1563/1563 [==============================] - 8s 5ms/step - loss: 0.8785 - accuracy: 0.6979\n",
      "Epoch 24/50\n",
      "1563/1563 [==============================] - 8s 5ms/step - loss: 0.8559 - accuracy: 0.7087\n",
      "Epoch 25/50\n",
      "1563/1563 [==============================] - 8s 5ms/step - loss: 0.8271 - accuracy: 0.7162\n",
      "Epoch 26/50\n",
      "1563/1563 [==============================] - 9s 6ms/step - loss: 0.8012 - accuracy: 0.7276\n",
      "Epoch 27/50\n",
      "1563/1563 [==============================] - 9s 6ms/step - loss: 0.7755 - accuracy: 0.7356\n",
      "Epoch 28/50\n",
      "1563/1563 [==============================] - 9s 6ms/step - loss: 0.7492 - accuracy: 0.7467\n",
      "Epoch 29/50\n",
      "1563/1563 [==============================] - 8s 5ms/step - loss: 0.7218 - accuracy: 0.7556\n",
      "Epoch 30/50\n",
      "1563/1563 [==============================] - 8s 5ms/step - loss: 0.6921 - accuracy: 0.7671\n",
      "Epoch 31/50\n",
      "1563/1563 [==============================] - 8s 5ms/step - loss: 0.6699 - accuracy: 0.7735\n",
      "Epoch 32/50\n",
      "1563/1563 [==============================] - 8s 5ms/step - loss: 0.6408 - accuracy: 0.7858\n",
      "Epoch 33/50\n",
      "1563/1563 [==============================] - 8s 5ms/step - loss: 0.6149 - accuracy: 0.7943\n",
      "Epoch 34/50\n",
      "1563/1563 [==============================] - 8s 5ms/step - loss: 0.5931 - accuracy: 0.8030\n",
      "Epoch 35/50\n",
      "1563/1563 [==============================] - 8s 5ms/step - loss: 0.5646 - accuracy: 0.8129\n",
      "Epoch 36/50\n",
      "1563/1563 [==============================] - 8s 5ms/step - loss: 0.5390 - accuracy: 0.8233\n",
      "Epoch 37/50\n",
      "1563/1563 [==============================] - 8s 5ms/step - loss: 0.5184 - accuracy: 0.8301\n",
      "Epoch 38/50\n",
      "1563/1563 [==============================] - 8s 5ms/step - loss: 0.4934 - accuracy: 0.8401\n",
      "Epoch 39/50\n",
      "1563/1563 [==============================] - 8s 5ms/step - loss: 0.4682 - accuracy: 0.8499\n",
      "Epoch 40/50\n",
      "1563/1563 [==============================] - 8s 5ms/step - loss: 0.4475 - accuracy: 0.8570\n",
      "Epoch 41/50\n",
      "1563/1563 [==============================] - 8s 5ms/step - loss: 0.4219 - accuracy: 0.8651\n",
      "Epoch 42/50\n",
      "1563/1563 [==============================] - 8s 5ms/step - loss: 0.3983 - accuracy: 0.8761\n",
      "Epoch 43/50\n",
      "1563/1563 [==============================] - 8s 5ms/step - loss: 0.3790 - accuracy: 0.8829\n",
      "Epoch 44/50\n",
      "1563/1563 [==============================] - 8s 5ms/step - loss: 0.3567 - accuracy: 0.8916\n",
      "Epoch 45/50\n",
      "1563/1563 [==============================] - 8s 5ms/step - loss: 0.3359 - accuracy: 0.8977\n",
      "Epoch 46/50\n",
      "1563/1563 [==============================] - 8s 5ms/step - loss: 0.3200 - accuracy: 0.9032\n",
      "Epoch 47/50\n",
      "1563/1563 [==============================] - 8s 5ms/step - loss: 0.3012 - accuracy: 0.9117\n",
      "Epoch 48/50\n",
      "1563/1563 [==============================] - 8s 5ms/step - loss: 0.2817 - accuracy: 0.9179\n",
      "Epoch 49/50\n",
      "1563/1563 [==============================] - 8s 5ms/step - loss: 0.2683 - accuracy: 0.9233\n",
      "Epoch 50/50\n",
      "1563/1563 [==============================] - 8s 5ms/step - loss: 0.2482 - accuracy: 0.9303\n"
     ]
    },
    {
     "data": {
      "text/plain": [
       "<keras.callbacks.History at 0x2a291520b20>"
      ]
     },
     "execution_count": 18,
     "metadata": {},
     "output_type": "execute_result"
    }
   ],
   "source": [
    "# model = keras.Sequential([\n",
    "#     keras.layers.Flatten(input_shape=(32,32,3)), \n",
    "#      keras.layers.Dense(3072,activation='relu'),\n",
    "#      keras.layers.Dense(3000,activation='relu'),\n",
    "#     keras.layers.Dense(10,activation='sigmoid')\n",
    "# ])\n",
    "# model.compile(optimizer='SGD',\n",
    "#              loss = 'categorical_crossentropy',\n",
    "#              metrices = ['accuracy'])\n",
    "# model.fit(X_train_scaled, y_train_categorical, epochs= 50)\n",
    "model = keras.Sequential([\n",
    "        keras.layers.Flatten(input_shape=(32,32,3)),\n",
    "        keras.layers.Dense(3072, activation='relu'),\n",
    "        keras.layers.Dense(3000, activation='relu'),\n",
    "        keras.layers.Dense(10, activation='sigmoid')    \n",
    "    ])\n",
    "\n",
    "model.compile(optimizer='SGD',\n",
    "              loss='categorical_crossentropy',\n",
    "              metrics=['accuracy'])\n",
    "\n",
    "model.fit(X_train_scaled, y_train_categorical, epochs=50)"
   ]
  },
  {
   "cell_type": "code",
   "execution_count": 19,
   "id": "67162d25",
   "metadata": {},
   "outputs": [],
   "source": [
    "def get_model():\n",
    "    model = keras.Sequential([\n",
    "            keras.layers.Flatten(input_shape=(32,32,3)),\n",
    "            keras.layers.Dense(3000, activation='relu'),\n",
    "            keras.layers.Dense(1000, activation='relu'),\n",
    "            keras.layers.Dense(10, activation='sigmoid')    \n",
    "        ])\n",
    "\n",
    "    model.compile(optimizer='SGD',\n",
    "                  loss='categorical_crossentropy',\n",
    "                  metrics=['accuracy'])\n",
    "    return model"
   ]
  },
  {
   "cell_type": "code",
   "execution_count": 20,
   "id": "75957b28",
   "metadata": {},
   "outputs": [
    {
     "name": "stdout",
     "output_type": "stream",
     "text": [
      "1563/1563 [==============================] - 46s 29ms/step - loss: 1.8112 - accuracy: 0.3544\n",
      "46 s ± 0 ns per loop (mean ± std. dev. of 1 run, 1 loop each)\n"
     ]
    }
   ],
   "source": [
    "%%timeit -n1 -r1 \n",
    "with tf.device('/CPU:0'):\n",
    "    cpu_model = get_model()\n",
    "    cpu_model.fit(X_train_scaled, y_train_categorical, epochs=1)"
   ]
  },
  {
   "cell_type": "code",
   "execution_count": 21,
   "id": "d85a13e3",
   "metadata": {},
   "outputs": [
    {
     "name": "stdout",
     "output_type": "stream",
     "text": [
      "Epoch 1/50\n",
      "1563/1563 [==============================] - 6s 4ms/step - loss: 1.8079 - accuracy: 0.3556\n",
      "Epoch 2/50\n",
      "1563/1563 [==============================] - 6s 4ms/step - loss: 1.6204 - accuracy: 0.4286\n",
      "Epoch 3/50\n",
      "1563/1563 [==============================] - 6s 4ms/step - loss: 1.5394 - accuracy: 0.4545\n",
      "Epoch 4/50\n",
      "1563/1563 [==============================] - 6s 4ms/step - loss: 1.4815 - accuracy: 0.4766\n",
      "Epoch 5/50\n",
      "1563/1563 [==============================] - 6s 4ms/step - loss: 1.4317 - accuracy: 0.4949\n",
      "Epoch 6/50\n",
      "1563/1563 [==============================] - 6s 4ms/step - loss: 1.3883 - accuracy: 0.5142\n",
      "Epoch 7/50\n",
      "1563/1563 [==============================] - 7s 4ms/step - loss: 1.3475 - accuracy: 0.5259\n",
      "Epoch 8/50\n",
      "1563/1563 [==============================] - 7s 4ms/step - loss: 1.3143 - accuracy: 0.5378\n",
      "Epoch 9/50\n",
      "1563/1563 [==============================] - 7s 5ms/step - loss: 1.2829 - accuracy: 0.5506\n",
      "Epoch 10/50\n",
      "1563/1563 [==============================] - 7s 4ms/step - loss: 1.2523 - accuracy: 0.5604\n",
      "Epoch 11/50\n",
      "1563/1563 [==============================] - 7s 4ms/step - loss: 1.2210 - accuracy: 0.5721\n",
      "Epoch 12/50\n",
      "1563/1563 [==============================] - 7s 4ms/step - loss: 1.1927 - accuracy: 0.5834\n",
      "Epoch 13/50\n",
      "1563/1563 [==============================] - 7s 4ms/step - loss: 1.1658 - accuracy: 0.5938\n",
      "Epoch 14/50\n",
      "1563/1563 [==============================] - 7s 4ms/step - loss: 1.1401 - accuracy: 0.6013\n",
      "Epoch 15/50\n",
      "1563/1563 [==============================] - 7s 4ms/step - loss: 1.1126 - accuracy: 0.6124\n",
      "Epoch 16/50\n",
      "1563/1563 [==============================] - 7s 4ms/step - loss: 1.0870 - accuracy: 0.6191\n",
      "Epoch 17/50\n",
      "1563/1563 [==============================] - 6s 4ms/step - loss: 1.0567 - accuracy: 0.6331\n",
      "Epoch 18/50\n",
      "1563/1563 [==============================] - 6s 4ms/step - loss: 1.0332 - accuracy: 0.6405\n",
      "Epoch 19/50\n",
      "1563/1563 [==============================] - 6s 4ms/step - loss: 1.0096 - accuracy: 0.6492\n",
      "Epoch 20/50\n",
      "1563/1563 [==============================] - 6s 4ms/step - loss: 0.9811 - accuracy: 0.6607\n",
      "Epoch 21/50\n",
      "1563/1563 [==============================] - 6s 4ms/step - loss: 0.9577 - accuracy: 0.6680\n",
      "Epoch 22/50\n",
      "1563/1563 [==============================] - 6s 4ms/step - loss: 0.9297 - accuracy: 0.6779\n",
      "Epoch 23/50\n",
      "1563/1563 [==============================] - 6s 4ms/step - loss: 0.9052 - accuracy: 0.6864\n",
      "Epoch 24/50\n",
      "1563/1563 [==============================] - 7s 4ms/step - loss: 0.8768 - accuracy: 0.6982\n",
      "Epoch 25/50\n",
      "1563/1563 [==============================] - 7s 4ms/step - loss: 0.8546 - accuracy: 0.7062\n",
      "Epoch 26/50\n",
      "1563/1563 [==============================] - 6s 4ms/step - loss: 0.8291 - accuracy: 0.7152\n",
      "Epoch 27/50\n",
      "1563/1563 [==============================] - 6s 4ms/step - loss: 0.8047 - accuracy: 0.7233\n",
      "Epoch 28/50\n",
      "1563/1563 [==============================] - 6s 4ms/step - loss: 0.7802 - accuracy: 0.7299\n",
      "Epoch 29/50\n",
      "1563/1563 [==============================] - 6s 4ms/step - loss: 0.7517 - accuracy: 0.7431\n",
      "Epoch 30/50\n",
      "1563/1563 [==============================] - 6s 4ms/step - loss: 0.7266 - accuracy: 0.7506\n",
      "Epoch 31/50\n",
      "1563/1563 [==============================] - 6s 4ms/step - loss: 0.7057 - accuracy: 0.7570\n",
      "Epoch 32/50\n",
      "1563/1563 [==============================] - 6s 4ms/step - loss: 0.6800 - accuracy: 0.7690\n",
      "Epoch 33/50\n",
      "1563/1563 [==============================] - 6s 4ms/step - loss: 0.6548 - accuracy: 0.7782\n",
      "Epoch 34/50\n",
      "1563/1563 [==============================] - 6s 4ms/step - loss: 0.6308 - accuracy: 0.7859\n",
      "Epoch 35/50\n",
      "1563/1563 [==============================] - 6s 4ms/step - loss: 0.6049 - accuracy: 0.7972\n",
      "Epoch 36/50\n",
      "1563/1563 [==============================] - 6s 4ms/step - loss: 0.5831 - accuracy: 0.8054\n",
      "Epoch 37/50\n",
      "1563/1563 [==============================] - 6s 4ms/step - loss: 0.5583 - accuracy: 0.8153\n",
      "Epoch 38/50\n",
      "1563/1563 [==============================] - 6s 4ms/step - loss: 0.5346 - accuracy: 0.8241\n",
      "Epoch 39/50\n",
      "1563/1563 [==============================] - 6s 4ms/step - loss: 0.5109 - accuracy: 0.8331\n",
      "Epoch 40/50\n",
      "1563/1563 [==============================] - 6s 4ms/step - loss: 0.4959 - accuracy: 0.8358\n",
      "Epoch 41/50\n",
      "1563/1563 [==============================] - 6s 4ms/step - loss: 0.4699 - accuracy: 0.8467\n",
      "Epoch 42/50\n",
      "1563/1563 [==============================] - 6s 4ms/step - loss: 0.4465 - accuracy: 0.8574\n",
      "Epoch 43/50\n",
      "1563/1563 [==============================] - 6s 4ms/step - loss: 0.4243 - accuracy: 0.8627\n",
      "Epoch 44/50\n",
      "1563/1563 [==============================] - 6s 4ms/step - loss: 0.4064 - accuracy: 0.8707\n",
      "Epoch 45/50\n",
      "1563/1563 [==============================] - 6s 4ms/step - loss: 0.3890 - accuracy: 0.8758\n",
      "Epoch 46/50\n",
      "1563/1563 [==============================] - 6s 4ms/step - loss: 0.3664 - accuracy: 0.8839\n",
      "Epoch 47/50\n",
      "1563/1563 [==============================] - 6s 4ms/step - loss: 0.3459 - accuracy: 0.8919\n",
      "Epoch 48/50\n",
      "1563/1563 [==============================] - 6s 4ms/step - loss: 0.3301 - accuracy: 0.8986\n",
      "Epoch 49/50\n",
      "1563/1563 [==============================] - 6s 4ms/step - loss: 0.3107 - accuracy: 0.9062\n",
      "Epoch 50/50\n",
      "1563/1563 [==============================] - 6s 4ms/step - loss: 0.2942 - accuracy: 0.9112\n",
      "5min 19s ± 0 ns per loop (mean ± std. dev. of 1 run, 1 loop each)\n"
     ]
    }
   ],
   "source": [
    "%%timeit -n1 -r1 \n",
    "with tf.device('GPU'):\n",
    "    cpu_model = get_model()\n",
    "    cpu_model.fit(X_train_scaled, y_train_categorical, epochs=50)"
   ]
  },
  {
   "cell_type": "code",
   "execution_count": 24,
   "id": "9eccebc3",
   "metadata": {},
   "outputs": [
    {
     "name": "stdout",
     "output_type": "stream",
     "text": [
      "Epoch 1/50\n",
      "1563/1563 [==============================] - 6s 4ms/step - loss: 1.8108 - accuracy: 0.3538\n",
      "Epoch 2/50\n",
      "1563/1563 [==============================] - 6s 4ms/step - loss: 1.6221 - accuracy: 0.4275\n",
      "Epoch 3/50\n",
      "1563/1563 [==============================] - 6s 4ms/step - loss: 1.5399 - accuracy: 0.4570\n",
      "Epoch 4/50\n",
      "1563/1563 [==============================] - 6s 4ms/step - loss: 1.4793 - accuracy: 0.4789\n",
      "Epoch 5/50\n",
      "1563/1563 [==============================] - 6s 4ms/step - loss: 1.4301 - accuracy: 0.4979\n",
      "Epoch 6/50\n",
      "1563/1563 [==============================] - 6s 4ms/step - loss: 1.3860 - accuracy: 0.5102\n",
      "Epoch 7/50\n",
      "1563/1563 [==============================] - 6s 4ms/step - loss: 1.3465 - accuracy: 0.5269\n",
      "Epoch 8/50\n",
      "1563/1563 [==============================] - 6s 4ms/step - loss: 1.3129 - accuracy: 0.5393\n",
      "Epoch 9/50\n",
      "1563/1563 [==============================] - 6s 4ms/step - loss: 1.2805 - accuracy: 0.5497\n",
      "Epoch 10/50\n",
      "1563/1563 [==============================] - 6s 4ms/step - loss: 1.2489 - accuracy: 0.5600\n",
      "Epoch 11/50\n",
      "1563/1563 [==============================] - 6s 4ms/step - loss: 1.2209 - accuracy: 0.5726\n",
      "Epoch 12/50\n",
      "1563/1563 [==============================] - 6s 4ms/step - loss: 1.1893 - accuracy: 0.5822\n",
      "Epoch 13/50\n",
      "1563/1563 [==============================] - 6s 4ms/step - loss: 1.1664 - accuracy: 0.5928\n",
      "Epoch 14/50\n",
      "1563/1563 [==============================] - 6s 4ms/step - loss: 1.1359 - accuracy: 0.6070\n",
      "Epoch 15/50\n",
      "1563/1563 [==============================] - 6s 4ms/step - loss: 1.1077 - accuracy: 0.6133\n",
      "Epoch 16/50\n",
      "1563/1563 [==============================] - 6s 4ms/step - loss: 1.0816 - accuracy: 0.6231\n",
      "Epoch 17/50\n",
      "1563/1563 [==============================] - 6s 4ms/step - loss: 1.0585 - accuracy: 0.6319\n",
      "Epoch 18/50\n",
      "1563/1563 [==============================] - 6s 4ms/step - loss: 1.0307 - accuracy: 0.6412\n",
      "Epoch 19/50\n",
      "1563/1563 [==============================] - 6s 4ms/step - loss: 1.0051 - accuracy: 0.6500\n",
      "Epoch 20/50\n",
      "1563/1563 [==============================] - 6s 4ms/step - loss: 0.9786 - accuracy: 0.6591\n",
      "Epoch 21/50\n",
      "1563/1563 [==============================] - 6s 4ms/step - loss: 0.9528 - accuracy: 0.6690\n",
      "Epoch 22/50\n",
      "1563/1563 [==============================] - 6s 4ms/step - loss: 0.9259 - accuracy: 0.6810\n",
      "Epoch 23/50\n",
      "1563/1563 [==============================] - 6s 4ms/step - loss: 0.9006 - accuracy: 0.6884\n",
      "Epoch 24/50\n",
      "1563/1563 [==============================] - 7s 4ms/step - loss: 0.8772 - accuracy: 0.6963\n",
      "Epoch 25/50\n",
      "1563/1563 [==============================] - 7s 4ms/step - loss: 0.8545 - accuracy: 0.7029\n",
      "Epoch 26/50\n",
      "1563/1563 [==============================] - 7s 4ms/step - loss: 0.8271 - accuracy: 0.7153\n",
      "Epoch 27/50\n",
      "1563/1563 [==============================] - 7s 4ms/step - loss: 0.8021 - accuracy: 0.7239\n",
      "Epoch 28/50\n",
      "1563/1563 [==============================] - 7s 4ms/step - loss: 0.7774 - accuracy: 0.7334\n",
      "Epoch 29/50\n",
      "1563/1563 [==============================] - 7s 4ms/step - loss: 0.7507 - accuracy: 0.7430\n",
      "Epoch 30/50\n",
      "1563/1563 [==============================] - 7s 4ms/step - loss: 0.7273 - accuracy: 0.7523\n",
      "Epoch 31/50\n",
      "1563/1563 [==============================] - 7s 4ms/step - loss: 0.7032 - accuracy: 0.7607\n",
      "Epoch 32/50\n",
      "1563/1563 [==============================] - 7s 4ms/step - loss: 0.6805 - accuracy: 0.7684\n",
      "Epoch 33/50\n",
      "1563/1563 [==============================] - 7s 4ms/step - loss: 0.6520 - accuracy: 0.7804\n",
      "Epoch 34/50\n",
      "1563/1563 [==============================] - 7s 4ms/step - loss: 0.6319 - accuracy: 0.7860\n",
      "Epoch 35/50\n",
      "1563/1563 [==============================] - 7s 4ms/step - loss: 0.6042 - accuracy: 0.7985\n",
      "Epoch 36/50\n",
      "1563/1563 [==============================] - 7s 4ms/step - loss: 0.5850 - accuracy: 0.8034\n",
      "Epoch 37/50\n",
      "1563/1563 [==============================] - 7s 4ms/step - loss: 0.5582 - accuracy: 0.8139\n",
      "Epoch 38/50\n",
      "1563/1563 [==============================] - 7s 4ms/step - loss: 0.5334 - accuracy: 0.8243\n",
      "Epoch 39/50\n",
      "1563/1563 [==============================] - 6s 4ms/step - loss: 0.5108 - accuracy: 0.8311\n",
      "Epoch 40/50\n",
      "1563/1563 [==============================] - 6s 4ms/step - loss: 0.4897 - accuracy: 0.8390\n",
      "Epoch 41/50\n",
      "1563/1563 [==============================] - 6s 4ms/step - loss: 0.4681 - accuracy: 0.8484\n",
      "Epoch 42/50\n",
      "1563/1563 [==============================] - 6s 4ms/step - loss: 0.4480 - accuracy: 0.8546\n",
      "Epoch 43/50\n",
      "1563/1563 [==============================] - 6s 4ms/step - loss: 0.4259 - accuracy: 0.8621\n",
      "Epoch 44/50\n",
      "1563/1563 [==============================] - 6s 4ms/step - loss: 0.4012 - accuracy: 0.8728\n",
      "Epoch 45/50\n",
      "1563/1563 [==============================] - 6s 4ms/step - loss: 0.3872 - accuracy: 0.8770\n",
      "Epoch 46/50\n",
      "1563/1563 [==============================] - 6s 4ms/step - loss: 0.3670 - accuracy: 0.8855\n",
      "Epoch 47/50\n",
      "1563/1563 [==============================] - 6s 4ms/step - loss: 0.3444 - accuracy: 0.8921\n",
      "Epoch 48/50\n",
      "1563/1563 [==============================] - 6s 4ms/step - loss: 0.3228 - accuracy: 0.9024\n",
      "Epoch 49/50\n",
      "1563/1563 [==============================] - 6s 4ms/step - loss: 0.3089 - accuracy: 0.9071\n",
      "Epoch 50/50\n",
      "1563/1563 [==============================] - 8s 5ms/step - loss: 0.2977 - accuracy: 0.9096\n",
      "5min 10s ± 0 ns per loop (mean ± std. dev. of 1 run, 1 loop each)\n"
     ]
    }
   ],
   "source": [
    "%%timeit -n1 -r1 \n",
    "with tf.device('GPU'):\n",
    "    cpu_model = get_model()\n",
    "    cpu_model.fit(X_train_scaled, y_train_categorical, epochs=50)"
   ]
  },
  {
   "cell_type": "code",
   "execution_count": 23,
   "id": "a7273645",
   "metadata": {},
   "outputs": [
    {
     "ename": "NameError",
     "evalue": "name 'y_pred' is not defined",
     "output_type": "error",
     "traceback": [
      "\u001b[1;31m---------------------------------------------------------------------------\u001b[0m",
      "\u001b[1;31mNameError\u001b[0m                                 Traceback (most recent call last)",
      "\u001b[1;32m<ipython-input-23-5a3c8ae5e7de>\u001b[0m in \u001b[0;36m<module>\u001b[1;34m\u001b[0m\n\u001b[0;32m      1\u001b[0m \u001b[1;32mimport\u001b[0m \u001b[0mseaborn\u001b[0m \u001b[1;32mas\u001b[0m \u001b[0msn\u001b[0m\u001b[1;33m\u001b[0m\u001b[1;33m\u001b[0m\u001b[0m\n\u001b[1;32m----> 2\u001b[1;33m \u001b[0mcm\u001b[0m \u001b[1;33m=\u001b[0m \u001b[0mtf\u001b[0m\u001b[1;33m.\u001b[0m\u001b[0mmath\u001b[0m\u001b[1;33m.\u001b[0m\u001b[0mconfusion_matrix\u001b[0m\u001b[1;33m(\u001b[0m\u001b[0mlabels\u001b[0m\u001b[1;33m=\u001b[0m\u001b[0my_test\u001b[0m\u001b[1;33m,\u001b[0m\u001b[0mpredictions\u001b[0m\u001b[1;33m=\u001b[0m\u001b[0my_pred\u001b[0m\u001b[1;33m)\u001b[0m\u001b[1;33m\u001b[0m\u001b[1;33m\u001b[0m\u001b[0m\n\u001b[0m\u001b[0;32m      3\u001b[0m \u001b[1;33m\u001b[0m\u001b[0m\n\u001b[0;32m      4\u001b[0m \u001b[0mplt\u001b[0m\u001b[1;33m.\u001b[0m\u001b[0mfigure\u001b[0m\u001b[1;33m(\u001b[0m\u001b[0mfigsize\u001b[0m \u001b[1;33m=\u001b[0m \u001b[1;33m(\u001b[0m\u001b[1;36m10\u001b[0m\u001b[1;33m,\u001b[0m\u001b[1;36m7\u001b[0m\u001b[1;33m)\u001b[0m\u001b[1;33m)\u001b[0m\u001b[1;33m\u001b[0m\u001b[1;33m\u001b[0m\u001b[0m\n\u001b[0;32m      5\u001b[0m \u001b[0msn\u001b[0m\u001b[1;33m.\u001b[0m\u001b[0mheatmap\u001b[0m\u001b[1;33m(\u001b[0m\u001b[0mcm\u001b[0m\u001b[1;33m,\u001b[0m \u001b[0mannot\u001b[0m\u001b[1;33m=\u001b[0m\u001b[1;32mTrue\u001b[0m\u001b[1;33m,\u001b[0m \u001b[0mfmt\u001b[0m\u001b[1;33m=\u001b[0m\u001b[1;34m'd'\u001b[0m\u001b[1;33m)\u001b[0m\u001b[1;33m\u001b[0m\u001b[1;33m\u001b[0m\u001b[0m\n",
      "\u001b[1;31mNameError\u001b[0m: name 'y_pred' is not defined"
     ]
    }
   ],
   "source": [
    "import seaborn as sn\n",
    "cm = tf.math.confusion_matrix(labels=y_test,predictions=y_pred)\n",
    "\n",
    "plt.figure(figsize = (10,7))\n",
    "sn.heatmap(cm, annot=True, fmt='d')\n",
    "plt.xlabel('Predicted')\n",
    "plt.ylabel('Truth')"
   ]
  },
  {
   "cell_type": "code",
   "execution_count": null,
   "id": "b3e8dfac",
   "metadata": {},
   "outputs": [],
   "source": [
    "!pip install seaborn"
   ]
  }
 ],
 "metadata": {
  "kernelspec": {
   "display_name": "Python 3.9 (tensorflow)",
   "language": "python",
   "name": "tensorflow"
  },
  "language_info": {
   "codemirror_mode": {
    "name": "ipython",
    "version": 3
   },
   "file_extension": ".py",
   "mimetype": "text/x-python",
   "name": "python",
   "nbconvert_exporter": "python",
   "pygments_lexer": "ipython3",
   "version": "3.9.7"
  }
 },
 "nbformat": 4,
 "nbformat_minor": 5
}
