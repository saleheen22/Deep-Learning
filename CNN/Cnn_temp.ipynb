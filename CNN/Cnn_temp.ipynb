{
 "cells": [
  {
   "cell_type": "code",
   "execution_count": 1,
   "id": "21b71b74",
   "metadata": {},
   "outputs": [],
   "source": [
    "import tensorflow as tf\n",
    "from tensorflow.keras import datasets, layers, models\n",
    "import matplotlib.pyplot as plt\n",
    "import numpy as np"
   ]
  },
  {
   "cell_type": "code",
   "execution_count": 2,
   "id": "84879a42",
   "metadata": {},
   "outputs": [
    {
     "data": {
      "text/plain": [
       "(50000, 32, 32, 3)"
      ]
     },
     "execution_count": 2,
     "metadata": {},
     "output_type": "execute_result"
    }
   ],
   "source": [
    "(X_train, y_train), (X_test, y_test) = datasets.cifar10.load_data()\n",
    "X_train.shape"
   ]
  },
  {
   "cell_type": "code",
   "execution_count": 3,
   "id": "5b8a1bc3",
   "metadata": {},
   "outputs": [
    {
     "data": {
      "text/plain": [
       "array([6, 9, 9, ..., 9, 1, 1], dtype=uint8)"
      ]
     },
     "execution_count": 3,
     "metadata": {},
     "output_type": "execute_result"
    }
   ],
   "source": [
    "y_train = y_train.reshape(-1,)\n",
    "y_train"
   ]
  },
  {
   "cell_type": "code",
   "execution_count": 4,
   "id": "784c7e53",
   "metadata": {},
   "outputs": [],
   "source": [
    "classes = [\"airplane\", \"automobile\", \"bird\", \"cat\", \"deer\", \"dog\", \"frog\", \"house\", \"ship\", \"truck\"]"
   ]
  },
  {
   "cell_type": "code",
   "execution_count": 5,
   "id": "7468ca02",
   "metadata": {},
   "outputs": [],
   "source": [
    "def plot_sample(X,y,index):\n",
    "    plt.figure(figsize=(15,2))\n",
    "    plt.imshow(X[index])\n",
    "    plt.xlabel(classes[y[index]])"
   ]
  },
  {
   "cell_type": "code",
   "execution_count": 6,
   "id": "761fff7f",
   "metadata": {},
   "outputs": [],
   "source": [
    "X_train = X_train/255\n",
    "X_test = X_test/255"
   ]
  },
  {
   "cell_type": "code",
   "execution_count": 7,
   "id": "c821ebb4",
   "metadata": {},
   "outputs": [],
   "source": [
    "cnn = models.Sequential([\n",
    "    layers.Conv2D(filters=32, kernel_size=(3, 3), activation='relu', input_shape=(32, 32, 3)),\n",
    "    layers.MaxPooling2D((2, 2)),\n",
    "    \n",
    "    layers.Conv2D(filters=64, kernel_size=(3, 3), activation='relu'),\n",
    "    layers.MaxPooling2D((2, 2)),\n",
    "    \n",
    "    layers.Flatten(),\n",
    "    layers.Dense(64, activation='relu'),\n",
    "    layers.Dense(10, activation='softmax')\n",
    "])"
   ]
  },
  {
   "cell_type": "code",
   "execution_count": 8,
   "id": "4761b7c0",
   "metadata": {},
   "outputs": [],
   "source": [
    "cnn.compile(optimizer='adam',\n",
    "              loss='sparse_categorical_crossentropy',\n",
    "              metrics=['accuracy'])"
   ]
  },
  {
   "cell_type": "code",
   "execution_count": 9,
   "id": "cef2327c",
   "metadata": {},
   "outputs": [
    {
     "data": {
      "text/plain": [
       "[PhysicalDevice(name='/physical_device:CPU:0', device_type='CPU'),\n",
       " PhysicalDevice(name='/physical_device:GPU:0', device_type='GPU')]"
      ]
     },
     "execution_count": 9,
     "metadata": {},
     "output_type": "execute_result"
    }
   ],
   "source": [
    "tf.config.experimental.list_physical_devices()"
   ]
  },
  {
   "cell_type": "code",
   "execution_count": 10,
   "id": "876adbd5",
   "metadata": {},
   "outputs": [
    {
     "data": {
      "text/plain": [
       "True"
      ]
     },
     "execution_count": 10,
     "metadata": {},
     "output_type": "execute_result"
    }
   ],
   "source": [
    "tf.test.is_built_with_cuda()"
   ]
  },
  {
   "cell_type": "code",
   "execution_count": 11,
   "id": "1e4c17db",
   "metadata": {},
   "outputs": [
    {
     "name": "stdout",
     "output_type": "stream",
     "text": [
      "Epoch 1/15\n",
      "1563/1563 [==============================] - 7s 3ms/step - loss: 1.4371 - accuracy: 0.4851\n",
      "Epoch 2/15\n",
      "1563/1563 [==============================] - 5s 3ms/step - loss: 1.0854 - accuracy: 0.6208\n",
      "Epoch 3/15\n",
      "1563/1563 [==============================] - 5s 3ms/step - loss: 0.9613 - accuracy: 0.6633\n",
      "Epoch 4/15\n",
      "1563/1563 [==============================] - 5s 3ms/step - loss: 0.8778 - accuracy: 0.6951\n",
      "Epoch 5/15\n",
      "1563/1563 [==============================] - 5s 3ms/step - loss: 0.8062 - accuracy: 0.7197\n",
      "Epoch 6/15\n",
      "1563/1563 [==============================] - 5s 3ms/step - loss: 0.7487 - accuracy: 0.7408\n",
      "Epoch 7/15\n",
      "1563/1563 [==============================] - 5s 3ms/step - loss: 0.6960 - accuracy: 0.7562\n",
      "Epoch 8/15\n",
      "1563/1563 [==============================] - 5s 3ms/step - loss: 0.6534 - accuracy: 0.7713\n",
      "Epoch 9/15\n",
      "1563/1563 [==============================] - 5s 3ms/step - loss: 0.6149 - accuracy: 0.7852\n",
      "Epoch 10/15\n",
      "1563/1563 [==============================] - 5s 3ms/step - loss: 0.5753 - accuracy: 0.7979\n",
      "Epoch 11/15\n",
      "1563/1563 [==============================] - 5s 3ms/step - loss: 0.5415 - accuracy: 0.8095\n",
      "Epoch 12/15\n",
      "1563/1563 [==============================] - 5s 3ms/step - loss: 0.5098 - accuracy: 0.8210\n",
      "Epoch 13/15\n",
      "1563/1563 [==============================] - 5s 3ms/step - loss: 0.4806 - accuracy: 0.8299\n",
      "Epoch 14/15\n",
      "1563/1563 [==============================] - 5s 3ms/step - loss: 0.4529 - accuracy: 0.8393\n",
      "Epoch 15/15\n",
      "1563/1563 [==============================] - 5s 3ms/step - loss: 0.4215 - accuracy: 0.8512\n",
      "1min 14s ± 0 ns per loop (mean ± std. dev. of 1 run, 1 loop each)\n"
     ]
    }
   ],
   "source": [
    "%%timeit -n1 -r1\n",
    "with tf.device('/GPU:5'):\n",
    "    cnn.fit(X_train, y_train, epochs=15)"
   ]
  },
  {
   "cell_type": "code",
   "execution_count": 12,
   "id": "131204db",
   "metadata": {},
   "outputs": [
    {
     "name": "stdout",
     "output_type": "stream",
     "text": [
      "313/313 [==============================] - 1s 2ms/step - loss: 1.0753 - accuracy: 0.6980\n"
     ]
    },
    {
     "data": {
      "text/plain": [
       "[1.075317621231079, 0.6980000138282776]"
      ]
     },
     "execution_count": 12,
     "metadata": {},
     "output_type": "execute_result"
    }
   ],
   "source": [
    "cnn.evaluate(X_test, y_test)"
   ]
  },
  {
   "cell_type": "code",
   "execution_count": 13,
   "id": "d38b44d6",
   "metadata": {},
   "outputs": [
    {
     "data": {
      "text/plain": [
       "array([[3.42237081e-06, 1.20588493e-05, 1.20971301e-04, ...,\n",
       "        3.39368341e-07, 1.20896474e-01, 1.07042863e-04],\n",
       "       [1.01190271e-05, 1.15020150e-04, 1.01863042e-08, ...,\n",
       "        1.23100922e-11, 9.99873996e-01, 7.84672977e-07],\n",
       "       [1.12918146e-01, 6.42383099e-03, 1.10098440e-03, ...,\n",
       "        1.58339981e-02, 7.35645831e-01, 6.81725144e-02],\n",
       "       ...,\n",
       "       [1.55948854e-07, 5.96119334e-11, 1.55788632e-02, ...,\n",
       "        6.17170744e-02, 4.22999474e-05, 5.39852274e-10],\n",
       "       [4.12824657e-03, 2.68514752e-01, 8.35172614e-05, ...,\n",
       "        5.89194713e-07, 5.35289478e-03, 1.09974913e-04],\n",
       "       [4.75585011e-06, 1.36398776e-05, 1.28196349e-04, ...,\n",
       "        9.97722208e-01, 1.47765077e-05, 2.16597414e-07]], dtype=float32)"
      ]
     },
     "execution_count": 13,
     "metadata": {},
     "output_type": "execute_result"
    }
   ],
   "source": [
    "y_pred = cnn.predict(X_test)\n",
    "y_pred"
   ]
  },
  {
   "cell_type": "code",
   "execution_count": 19,
   "id": "1a1aa956",
   "metadata": {},
   "outputs": [
    {
     "data": {
      "text/plain": [
       "array([3, 8, 8, 0, 6], dtype=uint8)"
      ]
     },
     "execution_count": 19,
     "metadata": {},
     "output_type": "execute_result"
    }
   ],
   "source": [
    "y_classes = [np.argmax(element) for element in y_pred]\n",
    "y_classes[:5]\n",
    "y_test = y_test.reshape(-1,)\n",
    "y_test[:5]"
   ]
  },
  {
   "cell_type": "code",
   "execution_count": 20,
   "id": "4d2caeeb",
   "metadata": {},
   "outputs": [
    {
     "data": {
      "text/plain": [
       "[3, 8, 8, 0, 6]"
      ]
     },
     "execution_count": 20,
     "metadata": {},
     "output_type": "execute_result"
    }
   ],
   "source": [
    "y_classes[:5]"
   ]
  },
  {
   "cell_type": "code",
   "execution_count": 22,
   "id": "daebec1e",
   "metadata": {},
   "outputs": [
    {
     "name": "stdout",
     "output_type": "stream",
     "text": [
      "Classification Report: \n",
      "               precision    recall  f1-score   support\n",
      "\n",
      "           0       0.77      0.73      0.75      1000\n",
      "           1       0.80      0.83      0.82      1000\n",
      "           2       0.62      0.56      0.59      1000\n",
      "           3       0.51      0.48      0.49      1000\n",
      "           4       0.62      0.65      0.64      1000\n",
      "           5       0.55      0.66      0.60      1000\n",
      "           6       0.78      0.78      0.78      1000\n",
      "           7       0.79      0.71      0.75      1000\n",
      "           8       0.79      0.78      0.79      1000\n",
      "           9       0.78      0.79      0.78      1000\n",
      "\n",
      "    accuracy                           0.70     10000\n",
      "   macro avg       0.70      0.70      0.70     10000\n",
      "weighted avg       0.70      0.70      0.70     10000\n",
      "\n"
     ]
    }
   ],
   "source": [
    "from sklearn.metrics import confusion_matrix , classification_report\n",
    "import numpy as np\n",
    "y_pred = cnn.predict(X_test)\n",
    "y_pred_classes = [np.argmax(element) for element in y_pred]\n",
    "\n",
    "print(\"Classification Report: \\n\", classification_report(y_test, y_classes))"
   ]
  }
 ],
 "metadata": {
  "kernelspec": {
   "display_name": "Python 3 (ipykernel)",
   "language": "python",
   "name": "python3"
  },
  "language_info": {
   "codemirror_mode": {
    "name": "ipython",
    "version": 3
   },
   "file_extension": ".py",
   "mimetype": "text/x-python",
   "name": "python",
   "nbconvert_exporter": "python",
   "pygments_lexer": "ipython3",
   "version": "3.9.7"
  }
 },
 "nbformat": 4,
 "nbformat_minor": 5
}
